{
 "cells": [
  {
   "cell_type": "markdown",
   "id": "f003e602",
   "metadata": {},
   "source": [
    "#### Big-O Notation"
   ]
  },
  {
   "cell_type": "code",
   "execution_count": null,
   "id": "0ffc51e8",
   "metadata": {},
   "outputs": [],
   "source": [
    "# O(logn), Recursive function.\n",
    "### Log of 8 = 3\n",
    "\n",
    "def log_func(n):\n",
    "    if n <= 1:\n",
    "        return n\n",
    "    n = n // 2\n",
    "    print(n)\n",
    "    return log_func(n)\n",
    "\n",
    "# log_func(8),  O(log8) = 2**? = 8"
   ]
  },
  {
   "cell_type": "code",
   "execution_count": 41,
   "id": "101628de",
   "metadata": {},
   "outputs": [],
   "source": [
    "# Binary search algorithm\n",
    "# Ordered Array, start by finding the mid point\n",
    "# Binary search only works on ordered arrays (desc or asc)\n",
    "\n",
    "\n",
    "arr = [1,2,3,4,5,6,7,8]\n",
    "start = 0\n",
    "end = len(arr) - 1\n",
    "target = 8\n",
    "\n",
    "def binary_search(arr, start, end, target):\n",
    "    if (start > end):\n",
    "        return False\n",
    "    mid_index = (start + end) // 2\n",
    "    if arr[mid_index] == target:\n",
    "        return True\n",
    "    \n",
    "    if arr[mid_index] > target:\n",
    "        return binary_search(arr, start=start, end=mid_index-1, target=target)\n",
    "    else:\n",
    "        return binary_search(arr, start=mid_index+1, end=end, target=target)\n",
    "    \n",
    "# binary_search(arr, start, end, 7)"
   ]
  },
  {
   "cell_type": "code",
   "execution_count": null,
   "id": "59b27d5f",
   "metadata": {},
   "outputs": [],
   "source": [
    "# O(nlogn)\n",
    "# list(range(1, 6))\n",
    "\n",
    "def nlogn_func(n):\n",
    "    y = n\n",
    "    while n > 1:\n",
    "        n  = n // 2\n",
    "        for i in range(1, y + 1):\n",
    "            print(i)\n",
    "\n",
    "# nlogn_func(7)"
   ]
  },
  {
   "cell_type": "code",
   "execution_count": null,
   "id": "9cc5a505",
   "metadata": {},
   "outputs": [
    {
     "name": "stdout",
     "output_type": "stream",
     "text": [
      "[1, 3, 5, 6, 12, 16]\n"
     ]
    }
   ],
   "source": [
    "# Merge & Sort, O(nlogn)\n",
    "# To merge ordered arrays e.g [3, 12, 16] [1, 6, 15]. \n",
    "# Will not work on unordered arrays.\n",
    "# Total time: O(n log n) (faster than Bubble Sort’s O(n²)).\n",
    "\n",
    "\n",
    "def merge_sort(arr):\n",
    "    # Base case: If the array has 0 or 1 element, it's already sorted.\n",
    "    if len(arr) < 2:\n",
    "        return arr\n",
    "    \n",
    "    # Find the middle index to split the array into two halves.\n",
    "    mid_index = len(arr) // 2\n",
    "\n",
    "    # Split the array into left and right subarrays.\n",
    "    left_arr = arr[0:mid_index]\n",
    "    right_arr = arr[mid_index:len(arr)]\n",
    "    \n",
    "    # Recursively sort left & right, then merge them.\n",
    "    return merge(merge_sort(left_arr), merge_sort(right_arr))\n",
    "\n",
    "def merge(left_arr, right_arr):\n",
    "    result_arr = []\n",
    "    left_index = 0\n",
    "    right_index = 0\n",
    "\n",
    "    while(left_index < len(left_arr) and right_index < len(right_arr)):\n",
    "        if(left_arr[left_index] < right_arr[right_index]):\n",
    "            result_arr.append(left_arr[left_index])\n",
    "            left_index += 1\n",
    "        else:\n",
    "            result_arr.append(right_arr[right_index])\n",
    "            right_index += 1\n",
    "    return result_arr + left_arr[left_index:] + right_arr[right_index:]\n",
    "\n",
    "arr = [12, 3, 16, 6, 5, 1]\n",
    "print(merge_sort(arr))\n",
    "\n"
   ]
  },
  {
   "cell_type": "code",
   "execution_count": null,
   "id": "34c0fbee",
   "metadata": {},
   "outputs": [],
   "source": [
    "# O(2n)\n",
    "# Fibonacci and Exponential Complexity\n",
    "\"\"\" The Fibonacci sequence is the series of numbers where each number \n",
    "    is the sum of the two preceding numbers \"\"\"\n",
    "\n",
    "def fib(n):\n",
    "    if n == 0:\n",
    "        return 0\n",
    "    if n == 1:\n",
    "        return 1\n",
    "    \n",
    "    return fib(n - 1) + fib(n - 2)\n",
    "\n",
    "\n",
    "# Why is it inefficient?\n",
    "# Because: \n",
    "\"\"\" Many repeated calculations are happening! For example, fib(3) is calculated twice in fib(5).\n",
    "As n becomes bigger, this repetition becomes massive and very slow.\"\"\"\n"
   ]
  },
  {
   "cell_type": "code",
   "execution_count": null,
   "id": "ef24aba7",
   "metadata": {},
   "outputs": [],
   "source": [
    "# Factorial time complexity\n",
    "# O(n!)\n",
    "# The product of an integer and all the integers below it; \n",
    "# e.g. factorial four ( 4! ) is equal to 24.\n",
    "\n",
    "def f(n):\n",
    "    if n == 0:\n",
    "        print('***************') # logs 6 times for a 3!\n",
    "        return\n",
    "    \n",
    "    for i in range(0, n):\n",
    "        f(n - 1)\n",
    "    return\n"
   ]
  },
  {
   "cell_type": "code",
   "execution_count": null,
   "id": "7356e39b",
   "metadata": {},
   "outputs": [
    {
     "name": "stdout",
     "output_type": "stream",
     "text": [
      "***************\n",
      "***************\n",
      "***************\n",
      "***************\n",
      "***************\n",
      "***************\n"
     ]
    }
   ],
   "source": []
  },
  {
   "cell_type": "code",
   "execution_count": null,
   "id": "b625750d",
   "metadata": {},
   "outputs": [],
   "source": []
  }
 ],
 "metadata": {
  "kernelspec": {
   "display_name": "base",
   "language": "python",
   "name": "python3"
  },
  "language_info": {
   "codemirror_mode": {
    "name": "ipython",
    "version": 3
   },
   "file_extension": ".py",
   "mimetype": "text/x-python",
   "name": "python",
   "nbconvert_exporter": "python",
   "pygments_lexer": "ipython3",
   "version": "3.11.5"
  }
 },
 "nbformat": 4,
 "nbformat_minor": 5
}
