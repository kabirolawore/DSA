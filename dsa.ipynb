{
 "cells": [
  {
   "cell_type": "markdown",
   "id": "f003e602",
   "metadata": {},
   "source": [
    "#### Big-O Notation"
   ]
  },
  {
   "cell_type": "code",
   "execution_count": null,
   "id": "0ffc51e8",
   "metadata": {},
   "outputs": [],
   "source": [
    "# O(logn), Recursive function.\n",
    "### Log of 8 = 3\n",
    "\n",
    "def log_func(n):\n",
    "    if n <= 1:\n",
    "        return n\n",
    "    n = n // 2\n",
    "    print(n)\n",
    "    return log_func(n)\n",
    "\n",
    "# log_func(8),  O(log8) = 2**? = 8"
   ]
  },
  {
   "cell_type": "code",
   "execution_count": 41,
   "id": "101628de",
   "metadata": {},
   "outputs": [],
   "source": [
    "# Binary search algorithm\n",
    "# Ordered Array, start by finding the mid point\n",
    "# Binary search only works on ordered arrays (desc or asc)\n",
    "\n",
    "\n",
    "arr = [1,2,3,4,5,6,7,8]\n",
    "start = 0\n",
    "end = len(arr) - 1\n",
    "target = 8\n",
    "\n",
    "def binary_search(arr, start, end, target):\n",
    "    if (start > end):\n",
    "        return False\n",
    "    mid_index = (start + end) // 2\n",
    "    if arr[mid_index] == target:\n",
    "        return True\n",
    "    \n",
    "    if arr[mid_index] > target:\n",
    "        return binary_search(arr, start=start, end=mid_index-1, target=target)\n",
    "    else:\n",
    "        return binary_search(arr, start=mid_index+1, end=end, target=target)\n",
    "    \n",
    "# binary_search(arr, start, end, 7)"
   ]
  },
  {
   "cell_type": "code",
   "execution_count": null,
   "id": "59b27d5f",
   "metadata": {},
   "outputs": [],
   "source": [
    "# O(nlogn)\n",
    "# list(range(1, 6))\n",
    "\n",
    "def nlogn_func(n):\n",
    "    y = n\n",
    "    while n > 1:\n",
    "        n  = n // 2\n",
    "        for i in range(1, y + 1):\n",
    "            print(i)\n",
    "\n",
    "# nlogn_func(7)"
   ]
  },
  {
   "cell_type": "code",
   "execution_count": null,
   "id": "9cc5a505",
   "metadata": {},
   "outputs": [],
   "source": [
    "# Merge & Sort, O(nlogn)\n",
    "# To merge ordered arrays, will not work on unordered arrays e.g [3, 12, 16] [1, 6, 15]\n",
    "\n",
    "def merge_sort(arr):\n",
    "    if len(arr) < 2:\n",
    "        return arr\n",
    "    mid_index = len(arr) // 2\n",
    "    left_arr = arr[0:mid_index]\n",
    "    right_arr = arr.slice[mid_index:len(arr)]\n",
    "    \n",
    "    return merge(merge_sort(left_arr), merge_sort(right_arr))\n",
    "\n",
    "def merge(left_arr, right_arr):\n",
    "    result_arr = []\n",
    "    left_index = 0\n",
    "    right_index = 0\n",
    "\n",
    "    while(left_index < len(left_arr) and right_index < len(right_arr)):\n",
    "        if(left_arr[left_index] < right_arr[right_index]):\n",
    "            result_arr.append(left_arr[left_index])\n",
    "        else:\n",
    "            result_arr.append(right_arr[right_index])\n",
    "            right_index += 1\n"
   ]
  }
 ],
 "metadata": {
  "kernelspec": {
   "display_name": "base",
   "language": "python",
   "name": "python3"
  },
  "language_info": {
   "codemirror_mode": {
    "name": "ipython",
    "version": 3
   },
   "file_extension": ".py",
   "mimetype": "text/x-python",
   "name": "python",
   "nbconvert_exporter": "python",
   "pygments_lexer": "ipython3",
   "version": "3.11.5"
  }
 },
 "nbformat": 4,
 "nbformat_minor": 5
}
